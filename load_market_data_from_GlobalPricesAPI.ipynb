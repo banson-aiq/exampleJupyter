{
 "cells": [
  {
   "cell_type": "markdown",
   "id": "1f27da9c-cae6-408f-9cc4-cc31c38507fd",
   "metadata": {},
   "source": [
    "# how to retrieve FACTSET Equity market time series using ASR"
   ]
  },
  {
   "cell_type": "markdown",
   "id": "825c7b46-c3a9-4eed-ba97-c86f3076f766",
   "metadata": {},
   "source": [
    "- Import ASR Data Accessor Library (DAL)"
   ]
  },
  {
   "cell_type": "code",
   "execution_count": 1,
   "id": "02fe8b76-6b0d-403b-8fc1-73ad2e8d5615",
   "metadata": {},
   "outputs": [],
   "source": [
    "from aiq_strategy_robot.data.data_accessor import DAL"
   ]
  },
  {
   "cell_type": "markdown",
   "id": "c29d4f53-2c34-4ba3-a70f-91d7216460fe",
   "metadata": {},
   "source": [
    "- Create a FACTSET data handler"
   ]
  },
  {
   "cell_type": "code",
   "execution_count": 9,
   "id": "414875c7",
   "metadata": {},
   "outputs": [],
   "source": [
    "handler = DAL('FACTSET')"
   ]
  },
  {
   "cell_type": "markdown",
   "id": "ea33f29e",
   "metadata": {},
   "source": [
    "- Load the data to memory by calling `load`"
   ]
  },
  {
   "cell_type": "code",
   "execution_count": 10,
   "id": "2fc7266c-b09f-4ede-9a08-4fec088d5811",
   "metadata": {},
   "outputs": [],
   "source": [
    "# `data_type` must be 'gpd_prices'\n",
    "handler = handler.load(\n",
    "    data_type='gpd_prices',\n",
    "    list_symbols=['AAPL-US', '7203-JP', 'MSFT-US'],\n",
    "    start_datetime='2023-01-01',\n",
    "    split_adjust=True,\n",
    "    fields=['price', 'vwap', 'volume', 'turnover']\n",
    ")"
   ]
  },
  {
   "cell_type": "markdown",
   "id": "376d1424",
   "metadata": {},
   "source": [
    "- Retrieve to `Pandas.DataFrame` the loaded data via `retrieve`"
   ]
  },
  {
   "cell_type": "code",
   "execution_count": 11,
   "id": "c05520fe-c447-4d8d-8c4e-00ddc477b9df",
   "metadata": {},
   "outputs": [
    {
     "data": {
      "text/html": [
       "<div>\n",
       "<style scoped>\n",
       "    .dataframe tbody tr th:only-of-type {\n",
       "        vertical-align: middle;\n",
       "    }\n",
       "\n",
       "    .dataframe tbody tr th {\n",
       "        vertical-align: top;\n",
       "    }\n",
       "\n",
       "    .dataframe thead th {\n",
       "        text-align: right;\n",
       "    }\n",
       "</style>\n",
       "<table border=\"1\" class=\"dataframe\">\n",
       "  <thead>\n",
       "    <tr style=\"text-align: right;\">\n",
       "      <th></th>\n",
       "      <th></th>\n",
       "      <th>volume</th>\n",
       "      <th>close</th>\n",
       "      <th>vwap</th>\n",
       "      <th>currency</th>\n",
       "      <th>turnover</th>\n",
       "    </tr>\n",
       "    <tr>\n",
       "      <th>ticker</th>\n",
       "      <th>datetime</th>\n",
       "      <th></th>\n",
       "      <th></th>\n",
       "      <th></th>\n",
       "      <th></th>\n",
       "      <th></th>\n",
       "    </tr>\n",
       "  </thead>\n",
       "  <tbody>\n",
       "    <tr>\n",
       "      <th rowspan=\"5\" valign=\"top\">AAPL-US</th>\n",
       "      <th>2022-12-30</th>\n",
       "      <td>77034209.0</td>\n",
       "      <td>129.93</td>\n",
       "      <td>128.821023</td>\n",
       "      <td>USD</td>\n",
       "      <td>9.877545e+06</td>\n",
       "    </tr>\n",
       "    <tr>\n",
       "      <th>2023-01-03</th>\n",
       "      <td>112117471.0</td>\n",
       "      <td>125.07</td>\n",
       "      <td>125.693370</td>\n",
       "      <td>USD</td>\n",
       "      <td>1.403410e+07</td>\n",
       "    </tr>\n",
       "    <tr>\n",
       "      <th>2023-01-04</th>\n",
       "      <td>89113633.0</td>\n",
       "      <td>126.36</td>\n",
       "      <td>126.641738</td>\n",
       "      <td>USD</td>\n",
       "      <td>1.119978e+07</td>\n",
       "    </tr>\n",
       "    <tr>\n",
       "      <th>2023-01-05</th>\n",
       "      <td>80962708.0</td>\n",
       "      <td>125.02</td>\n",
       "      <td>126.078091</td>\n",
       "      <td>USD</td>\n",
       "      <td>1.008031e+07</td>\n",
       "    </tr>\n",
       "    <tr>\n",
       "      <th>2023-01-06</th>\n",
       "      <td>87754715.0</td>\n",
       "      <td>129.62</td>\n",
       "      <td>128.229937</td>\n",
       "      <td>USD</td>\n",
       "      <td>1.112700e+07</td>\n",
       "    </tr>\n",
       "  </tbody>\n",
       "</table>\n",
       "</div>"
      ],
      "text/plain": [
       "                         volume   close        vwap currency      turnover\n",
       "ticker  datetime                                                          \n",
       "AAPL-US 2022-12-30   77034209.0  129.93  128.821023      USD  9.877545e+06\n",
       "        2023-01-03  112117471.0  125.07  125.693370      USD  1.403410e+07\n",
       "        2023-01-04   89113633.0  126.36  126.641738      USD  1.119978e+07\n",
       "        2023-01-05   80962708.0  125.02  126.078091      USD  1.008031e+07\n",
       "        2023-01-06   87754715.0  129.62  128.229937      USD  1.112700e+07"
      ]
     },
     "execution_count": 11,
     "metadata": {},
     "output_type": "execute_result"
    }
   ],
   "source": [
    "df_mkt = handler.retrieve(transformed=False)\n",
    "df_mkt.head()"
   ]
  },
  {
   "cell_type": "code",
   "execution_count": 12,
   "id": "8b0db843",
   "metadata": {},
   "outputs": [
    {
     "data": {
      "text/plain": [
       "Index(['AAPL-US', '7203-JP', 'MSFT-US'], dtype='object', name='ticker')"
      ]
     },
     "execution_count": 12,
     "metadata": {},
     "output_type": "execute_result"
    }
   ],
   "source": [
    "df_mkt.index.get_level_values('ticker').unique()"
   ]
  },
  {
   "cell_type": "markdown",
   "id": "ff627823-c802-495c-be50-4b12c951704d",
   "metadata": {},
   "source": [
    "- Split unadjusted data"
   ]
  },
  {
   "cell_type": "code",
   "execution_count": 13,
   "id": "e9e5725e-949d-4add-908f-a785efede6ae",
   "metadata": {},
   "outputs": [
    {
     "data": {
      "text/html": [
       "<div>\n",
       "<style scoped>\n",
       "    .dataframe tbody tr th:only-of-type {\n",
       "        vertical-align: middle;\n",
       "    }\n",
       "\n",
       "    .dataframe tbody tr th {\n",
       "        vertical-align: top;\n",
       "    }\n",
       "\n",
       "    .dataframe thead th {\n",
       "        text-align: right;\n",
       "    }\n",
       "</style>\n",
       "<table border=\"1\" class=\"dataframe\">\n",
       "  <thead>\n",
       "    <tr style=\"text-align: right;\">\n",
       "      <th></th>\n",
       "      <th></th>\n",
       "      <th>volume</th>\n",
       "      <th>close</th>\n",
       "      <th>vwap</th>\n",
       "      <th>currency</th>\n",
       "      <th>turnover</th>\n",
       "    </tr>\n",
       "    <tr>\n",
       "      <th>ticker</th>\n",
       "      <th>datetime</th>\n",
       "      <th></th>\n",
       "      <th></th>\n",
       "      <th></th>\n",
       "      <th></th>\n",
       "      <th></th>\n",
       "    </tr>\n",
       "  </thead>\n",
       "  <tbody>\n",
       "    <tr>\n",
       "      <th rowspan=\"5\" valign=\"top\">MS-US</th>\n",
       "      <th>2022-12-30</th>\n",
       "      <td>4455649.0</td>\n",
       "      <td>85.02</td>\n",
       "      <td>84.823234</td>\n",
       "      <td>USD</td>\n",
       "      <td>377063.181800</td>\n",
       "    </tr>\n",
       "    <tr>\n",
       "      <th>2023-01-03</th>\n",
       "      <td>5108896.0</td>\n",
       "      <td>85.72</td>\n",
       "      <td>85.612901</td>\n",
       "      <td>USD</td>\n",
       "      <td>437121.332701</td>\n",
       "    </tr>\n",
       "    <tr>\n",
       "      <th>2023-01-04</th>\n",
       "      <td>7726771.0</td>\n",
       "      <td>86.65</td>\n",
       "      <td>86.415300</td>\n",
       "      <td>USD</td>\n",
       "      <td>641215.926946</td>\n",
       "    </tr>\n",
       "    <tr>\n",
       "      <th>2023-01-05</th>\n",
       "      <td>5339886.0</td>\n",
       "      <td>85.92</td>\n",
       "      <td>85.639517</td>\n",
       "      <td>USD</td>\n",
       "      <td>457229.074332</td>\n",
       "    </tr>\n",
       "    <tr>\n",
       "      <th>2023-01-06</th>\n",
       "      <td>5710882.0</td>\n",
       "      <td>87.56</td>\n",
       "      <td>87.319164</td>\n",
       "      <td>USD</td>\n",
       "      <td>498109.890019</td>\n",
       "    </tr>\n",
       "  </tbody>\n",
       "</table>\n",
       "</div>"
      ],
      "text/plain": [
       "                      volume  close       vwap currency       turnover\n",
       "ticker datetime                                                       \n",
       "MS-US  2022-12-30  4455649.0  85.02  84.823234      USD  377063.181800\n",
       "       2023-01-03  5108896.0  85.72  85.612901      USD  437121.332701\n",
       "       2023-01-04  7726771.0  86.65  86.415300      USD  641215.926946\n",
       "       2023-01-05  5339886.0  85.92  85.639517      USD  457229.074332\n",
       "       2023-01-06  5710882.0  87.56  87.319164      USD  498109.890019"
      ]
     },
     "execution_count": 13,
     "metadata": {},
     "output_type": "execute_result"
    }
   ],
   "source": [
    "handler.load(\n",
    "    data_type='gpd_prices',\n",
    "    list_symbols=['MS-US', '9983-JP'],\n",
    "    start_datetime='2023-01-01',\n",
    "    split_adjust=False,\n",
    "    fields=['price', 'vwap', 'volume', 'turnover']\n",
    ")\n",
    "df_unadj = handler.retrieve(transformed=False)\n",
    "df_unadj.head()"
   ]
  },
  {
   "cell_type": "code",
   "execution_count": 14,
   "id": "91bc271f-6936-40a4-bd18-344541853d87",
   "metadata": {},
   "outputs": [
    {
     "data": {
      "text/plain": [
       "Index(['MS-US', '9983-JP'], dtype='object', name='ticker')"
      ]
     },
     "execution_count": 14,
     "metadata": {},
     "output_type": "execute_result"
    }
   ],
   "source": [
    "df_unadj.index.get_level_values('ticker').unique()"
   ]
  },
  {
   "cell_type": "markdown",
   "id": "051387b7-40ea-4d99-be2a-8a78f89a560b",
   "metadata": {},
   "source": [
    "- You can choose which columns to keep in the output by specifying `pick_cols`"
   ]
  },
  {
   "cell_type": "code",
   "execution_count": 15,
   "id": "0b2a3b88-e5a9-4eed-a4f6-126433351f91",
   "metadata": {},
   "outputs": [
    {
     "data": {
      "text/html": [
       "<div>\n",
       "<style scoped>\n",
       "    .dataframe tbody tr th:only-of-type {\n",
       "        vertical-align: middle;\n",
       "    }\n",
       "\n",
       "    .dataframe tbody tr th {\n",
       "        vertical-align: top;\n",
       "    }\n",
       "\n",
       "    .dataframe thead th {\n",
       "        text-align: right;\n",
       "    }\n",
       "</style>\n",
       "<table border=\"1\" class=\"dataframe\">\n",
       "  <thead>\n",
       "    <tr style=\"text-align: right;\">\n",
       "      <th></th>\n",
       "      <th></th>\n",
       "      <th>close</th>\n",
       "      <th>vwap</th>\n",
       "    </tr>\n",
       "    <tr>\n",
       "      <th>ticker</th>\n",
       "      <th>datetime</th>\n",
       "      <th></th>\n",
       "      <th></th>\n",
       "    </tr>\n",
       "  </thead>\n",
       "  <tbody>\n",
       "    <tr>\n",
       "      <th rowspan=\"5\" valign=\"top\">MS-US</th>\n",
       "      <th>2022-12-30</th>\n",
       "      <td>85.02</td>\n",
       "      <td>84.823234</td>\n",
       "    </tr>\n",
       "    <tr>\n",
       "      <th>2023-01-03</th>\n",
       "      <td>85.72</td>\n",
       "      <td>85.612901</td>\n",
       "    </tr>\n",
       "    <tr>\n",
       "      <th>2023-01-04</th>\n",
       "      <td>86.65</td>\n",
       "      <td>86.415300</td>\n",
       "    </tr>\n",
       "    <tr>\n",
       "      <th>2023-01-05</th>\n",
       "      <td>85.92</td>\n",
       "      <td>85.639517</td>\n",
       "    </tr>\n",
       "    <tr>\n",
       "      <th>2023-01-06</th>\n",
       "      <td>87.56</td>\n",
       "      <td>87.319164</td>\n",
       "    </tr>\n",
       "  </tbody>\n",
       "</table>\n",
       "</div>"
      ],
      "text/plain": [
       "                   close       vwap\n",
       "ticker datetime                    \n",
       "MS-US  2022-12-30  85.02  84.823234\n",
       "       2023-01-03  85.72  85.612901\n",
       "       2023-01-04  86.65  86.415300\n",
       "       2023-01-05  85.92  85.639517\n",
       "       2023-01-06  87.56  87.319164"
      ]
     },
     "execution_count": 15,
     "metadata": {},
     "output_type": "execute_result"
    }
   ],
   "source": [
    "df_small = handler.retrieve(\n",
    "    transformed=False,\n",
    "    pick_cols=['close', 'vwap']\n",
    ")\n",
    "df_small.head()"
   ]
  }
 ],
 "metadata": {
  "kernelspec": {
   "display_name": "kota-copied",
   "language": "python",
   "name": "python3.8-env-kota-cp"
  },
  "language_info": {
   "codemirror_mode": {
    "name": "ipython",
    "version": 3
   },
   "file_extension": ".py",
   "mimetype": "text/x-python",
   "name": "python",
   "nbconvert_exporter": "python",
   "pygments_lexer": "ipython3",
   "version": "3.8.18"
  }
 },
 "nbformat": 4,
 "nbformat_minor": 5
}
