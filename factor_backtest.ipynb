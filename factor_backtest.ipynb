{
 "cells": [
  {
   "cell_type": "markdown",
   "id": "4eff1af6-fd07-4922-9371-c7c9f853b576",
   "metadata": {},
   "source": [
    "# SNOWFLAKE DATA and RETURN ANALYSIS"
   ]
  },
  {
   "cell_type": "code",
   "execution_count": 1,
   "id": "6b9b2b34-159c-4b81-be7b-005ee3250da2",
   "metadata": {},
   "outputs": [
    {
     "name": "stderr",
     "output_type": "stream",
     "text": [
      "Using `tqdm.autonotebook.tqdm` in notebook mode. Use `tqdm.tqdm` instead to force console mode (e.g. in jupyter console)\n"
     ]
    }
   ],
   "source": [
    "import sys\n",
    "import os\n",
    "import configparser\n",
    "import plotly.express as px\n",
    "import plotly.io as pio\n",
    "pio.renderers.default = 'iframe'\n",
    "\n",
    "# aiQ snowflake connector\n",
    "from AIQSnow.AIQSnow import AIQSnow\n",
    "# libraries as common function\n",
    "\n",
    "import libraries as l\n",
    "\n",
    "# load marketdata as notebook specific function\n",
    "import tv_analysis as tva\n",
    "\n",
    "# Create a ConfigParser object\n",
    "config = configparser.ConfigParser()\n",
    "# Read the configuration file\n",
    "config.read('/home/kota/config/asr.config')\n",
    "os.environ['SNOWFLAKE_ID']= config.get('snowflake', 'id')\n",
    "os.environ['SNOWFLAKE_PASSWD']= config.get('snowflake', 'passwd')\n",
    "\n",
    "\n",
    "os.environ['FACTSET_ID']= config.get('api', 'id')\n",
    "os.environ['FACTSET_PASSWD']= config.get('api', 'passwd')\n",
    "\n",
    "snow = AIQSnow(\n",
    "    user=os.environ['SNOWFLAKE_ID'],\n",
    "    password=os.environ['SNOWFLAKE_PASSWD'],\n",
    "    database='FACTSET_FACTSET_FACTSET_FDS_AIQ_JPN_1665176',\n",
    "    schema='ECON_EVT_V1',\n",
    "    warehouse='COMPUTE_WH',\n",
    "    role='PROD_AIQ_B2B_ENGINEER'  # in the Sandbox DB engineers have full access\n",
    ")\n"
   ]
  },
  {
   "cell_type": "markdown",
   "id": "2cc88f23-a304-4583-9c3c-96a2e3556107",
   "metadata": {},
   "source": [
    "- GET SNOWFLAKE TABLE DATA"
   ]
  },
  {
   "cell_type": "code",
   "execution_count": 2,
   "id": "d8cf8f19-6496-4bbe-8f90-c5b7062f8ae5",
   "metadata": {},
   "outputs": [],
   "source": [
    "tk_df = l.load_topix_500_ids()\n",
    "table_list, table_dfs = l.get_table_data(['FSPT_V1'], snow, tk_df )"
   ]
  },
  {
   "cell_type": "markdown",
   "id": "2820cd1f-4b8a-4368-9f94-953dbf5d14dc",
   "metadata": {},
   "source": [
    "- GRID SEARCH TABLE DATA and backtest"
   ]
  },
  {
   "cell_type": "code",
   "execution_count": 4,
   "id": "0a84c3f1-9b37-448b-ba10-80872be2f072",
   "metadata": {},
   "outputs": [],
   "source": [
    "return_df, qret_df = tva.grid_search(table_dfs, table_list)"
   ]
  },
  {
   "cell_type": "markdown",
   "id": "d4cdc7b5-da5b-4200-9b87-44babec327e2",
   "metadata": {},
   "source": [
    "- GET RETURN ORDER of table and column"
   ]
  },
  {
   "cell_type": "code",
   "execution_count": 7,
   "id": "33d49366-5b7f-4c61-8338-c44ccfcf63e9",
   "metadata": {},
   "outputs": [
    {
     "data": {
      "text/html": [
       "<div>\n",
       "<style scoped>\n",
       "    .dataframe tbody tr th:only-of-type {\n",
       "        vertical-align: middle;\n",
       "    }\n",
       "\n",
       "    .dataframe tbody tr th {\n",
       "        vertical-align: top;\n",
       "    }\n",
       "\n",
       "    .dataframe thead th {\n",
       "        text-align: right;\n",
       "    }\n",
       "</style>\n",
       "<table border=\"1\" class=\"dataframe\">\n",
       "  <thead>\n",
       "    <tr style=\"text-align: right;\">\n",
       "      <th></th>\n",
       "      <th>table</th>\n",
       "      <th>col</th>\n",
       "      <th>cum.Ret</th>\n",
       "      <th>ann.Ret</th>\n",
       "      <th>ann.Std</th>\n",
       "      <th>R/R</th>\n",
       "      <th>Win_R</th>\n",
       "      <th>ann.TurnOver</th>\n",
       "      <th>Max_DD</th>\n",
       "      <th>Calmar Ratio</th>\n",
       "    </tr>\n",
       "  </thead>\n",
       "  <tbody>\n",
       "    <tr>\n",
       "      <th>#5-#1(cost)</th>\n",
       "      <td>FSPT_SASB_SPOTLIGHTS</td>\n",
       "      <td>Z_SCORE_ON_FINAL_DATE</td>\n",
       "      <td>0.367405</td>\n",
       "      <td>0.065804</td>\n",
       "      <td>0.054248</td>\n",
       "      <td>1.213028</td>\n",
       "      <td>0.671642</td>\n",
       "      <td>5.755703</td>\n",
       "      <td>-0.112553</td>\n",
       "      <td>-1.458643</td>\n",
       "    </tr>\n",
       "    <tr>\n",
       "      <th>#5-#1(cost)</th>\n",
       "      <td>FSPT_SASB_SPOTLIGHTS</td>\n",
       "      <td>Z_SCORE_ON_START_DATE</td>\n",
       "      <td>0.354341</td>\n",
       "      <td>0.063464</td>\n",
       "      <td>0.051922</td>\n",
       "      <td>1.222294</td>\n",
       "      <td>0.641791</td>\n",
       "      <td>5.926560</td>\n",
       "      <td>-0.071136</td>\n",
       "      <td>-2.383839</td>\n",
       "    </tr>\n",
       "    <tr>\n",
       "      <th>#5-#1(cost)</th>\n",
       "      <td>FSPT_SASB_SPOTLIGHTS</td>\n",
       "      <td>MEAN_PULSE_SCORE</td>\n",
       "      <td>0.115449</td>\n",
       "      <td>0.020677</td>\n",
       "      <td>0.054037</td>\n",
       "      <td>0.382655</td>\n",
       "      <td>0.507463</td>\n",
       "      <td>5.784732</td>\n",
       "      <td>-0.092863</td>\n",
       "      <td>-3.453325</td>\n",
       "    </tr>\n",
       "    <tr>\n",
       "      <th>#5-#1(cost)</th>\n",
       "      <td>FSPT_SASB_SPOTLIGHTS</td>\n",
       "      <td>PULSE_ON_START_DATE</td>\n",
       "      <td>0.109888</td>\n",
       "      <td>0.019681</td>\n",
       "      <td>0.051168</td>\n",
       "      <td>0.384640</td>\n",
       "      <td>0.507463</td>\n",
       "      <td>5.798532</td>\n",
       "      <td>-0.095134</td>\n",
       "      <td>-3.433760</td>\n",
       "    </tr>\n",
       "    <tr>\n",
       "      <th>#5-#1(cost)</th>\n",
       "      <td>FSPT_SASB_SPOTLIGHTS</td>\n",
       "      <td>MEAN_ART_SCORE_START_DATE</td>\n",
       "      <td>0.103878</td>\n",
       "      <td>0.018605</td>\n",
       "      <td>0.049464</td>\n",
       "      <td>0.376135</td>\n",
       "      <td>0.507463</td>\n",
       "      <td>6.271502</td>\n",
       "      <td>-0.092599</td>\n",
       "      <td>-3.600664</td>\n",
       "    </tr>\n",
       "  </tbody>\n",
       "</table>\n",
       "</div>"
      ],
      "text/plain": [
       "                            table                        col   cum.Ret  \\\n",
       "#5-#1(cost)  FSPT_SASB_SPOTLIGHTS      Z_SCORE_ON_FINAL_DATE  0.367405   \n",
       "#5-#1(cost)  FSPT_SASB_SPOTLIGHTS      Z_SCORE_ON_START_DATE  0.354341   \n",
       "#5-#1(cost)  FSPT_SASB_SPOTLIGHTS           MEAN_PULSE_SCORE  0.115449   \n",
       "#5-#1(cost)  FSPT_SASB_SPOTLIGHTS        PULSE_ON_START_DATE  0.109888   \n",
       "#5-#1(cost)  FSPT_SASB_SPOTLIGHTS  MEAN_ART_SCORE_START_DATE  0.103878   \n",
       "\n",
       "              ann.Ret   ann.Std       R/R     Win_R  ann.TurnOver    Max_DD  \\\n",
       "#5-#1(cost)  0.065804  0.054248  1.213028  0.671642      5.755703 -0.112553   \n",
       "#5-#1(cost)  0.063464  0.051922  1.222294  0.641791      5.926560 -0.071136   \n",
       "#5-#1(cost)  0.020677  0.054037  0.382655  0.507463      5.784732 -0.092863   \n",
       "#5-#1(cost)  0.019681  0.051168  0.384640  0.507463      5.798532 -0.095134   \n",
       "#5-#1(cost)  0.018605  0.049464  0.376135  0.507463      6.271502 -0.092599   \n",
       "\n",
       "             Calmar Ratio  \n",
       "#5-#1(cost)     -1.458643  \n",
       "#5-#1(cost)     -2.383839  \n",
       "#5-#1(cost)     -3.453325  \n",
       "#5-#1(cost)     -3.433760  \n",
       "#5-#1(cost)     -3.600664  "
      ]
     },
     "execution_count": 7,
     "metadata": {},
     "output_type": "execute_result"
    }
   ],
   "source": [
    "return_df[return_df.index == '#5-#1(cost)'][['table', 'col', 'cum.Ret', 'ann.Ret', 'ann.Std', 'R/R', 'Win_R', 'ann.TurnOver',\n",
    "       'Max_DD', 'Calmar Ratio']].sort_values('cum.Ret', ascending = False).head()"
   ]
  },
  {
   "cell_type": "markdown",
   "id": "f3f62454-61f5-44bc-ba4d-d4054477437c",
   "metadata": {},
   "source": [
    "- PLOT BEST RETURN"
   ]
  },
  {
   "cell_type": "code",
   "execution_count": null,
   "id": "14d691dc",
   "metadata": {},
   "outputs": [],
   "source": []
  },
  {
   "cell_type": "code",
   "execution_count": 8,
   "id": "1e38ff5b-50c3-4bbe-99f1-13baa4157b77",
   "metadata": {},
   "outputs": [
    {
     "name": "stdout",
     "output_type": "stream",
     "text": [
      "HTTP Status: 200\n",
      "table:FSPT_SASB_SPOTLIGHTS col:Z_SCORE_ON_FINAL_DATE Return Information\n"
     ]
    },
    {
     "data": {
      "text/html": [
       "<div>\n",
       "<style scoped>\n",
       "    .dataframe tbody tr th:only-of-type {\n",
       "        vertical-align: middle;\n",
       "    }\n",
       "\n",
       "    .dataframe tbody tr th {\n",
       "        vertical-align: top;\n",
       "    }\n",
       "\n",
       "    .dataframe thead th {\n",
       "        text-align: right;\n",
       "    }\n",
       "</style>\n",
       "<table border=\"1\" class=\"dataframe\">\n",
       "  <thead>\n",
       "    <tr style=\"text-align: right;\">\n",
       "      <th></th>\n",
       "      <th>cum.Ret</th>\n",
       "      <th>ann.Ret</th>\n",
       "      <th>ann.Std</th>\n",
       "      <th>R/R</th>\n",
       "      <th>Win_R</th>\n",
       "      <th>ann.TurnOver</th>\n",
       "      <th>Max_DD</th>\n",
       "      <th>Calmar Ratio</th>\n",
       "      <th>table</th>\n",
       "      <th>col</th>\n",
       "    </tr>\n",
       "  </thead>\n",
       "  <tbody>\n",
       "    <tr>\n",
       "      <th>#5-#1(cost)</th>\n",
       "      <td>0.367405</td>\n",
       "      <td>0.065804</td>\n",
       "      <td>0.054248</td>\n",
       "      <td>1.213028</td>\n",
       "      <td>0.671642</td>\n",
       "      <td>5.755703</td>\n",
       "      <td>-0.112553</td>\n",
       "      <td>-1.458643</td>\n",
       "      <td>FSPT_SASB_SPOTLIGHTS</td>\n",
       "      <td>Z_SCORE_ON_FINAL_DATE</td>\n",
       "    </tr>\n",
       "  </tbody>\n",
       "</table>\n",
       "</div>"
      ],
      "text/plain": [
       "              cum.Ret   ann.Ret   ann.Std       R/R     Win_R  ann.TurnOver  \\\n",
       "#5-#1(cost)  0.367405  0.065804  0.054248  1.213028  0.671642      5.755703   \n",
       "\n",
       "               Max_DD  Calmar Ratio                 table  \\\n",
       "#5-#1(cost) -0.112553     -1.458643  FSPT_SASB_SPOTLIGHTS   \n",
       "\n",
       "                               col  \n",
       "#5-#1(cost)  Z_SCORE_ON_FINAL_DATE  "
      ]
     },
     "metadata": {},
     "output_type": "display_data"
    },
    {
     "name": "stdout",
     "output_type": "stream",
     "text": [
      "Portofolio Return Graph\n"
     ]
    },
    {
     "data": {
      "text/html": [
       "<iframe\n",
       "    scrolling=\"no\"\n",
       "    width=\"100%\"\n",
       "    height=\"545px\"\n",
       "    src=\"iframe_figures/figure_8.html\"\n",
       "    frameborder=\"0\"\n",
       "    allowfullscreen\n",
       "></iframe>\n"
      ]
     },
     "metadata": {},
     "output_type": "display_data"
    },
    {
     "name": "stdout",
     "output_type": "stream",
     "text": [
      "Portofolio Return Graph vs Topix (Red)\n"
     ]
    },
    {
     "data": {
      "text/html": [
       "<iframe\n",
       "    scrolling=\"no\"\n",
       "    width=\"100%\"\n",
       "    height=\"545px\"\n",
       "    src=\"iframe_figures/figure_8.html\"\n",
       "    frameborder=\"0\"\n",
       "    allowfullscreen\n",
       "></iframe>\n"
      ]
     },
     "metadata": {},
     "output_type": "display_data"
    }
   ],
   "source": [
    "topix_m_df = tva.get_topix_closing_prc()\n",
    "tva.create_graphs(return_df, qret_df, topix_m_df[(topix_m_df.index >= qret_df.index.min())], 'FSPT_SASB_SPOTLIGHTS', 'Z_SCORE_ON_FINAL_DATE')"
   ]
  },
  {
   "cell_type": "code",
   "execution_count": null,
   "id": "720be0ec-d645-474c-9425-80b34db6b540",
   "metadata": {},
   "outputs": [],
   "source": []
  }
 ],
 "metadata": {
  "kernelspec": {
   "display_name": "kota-copied",
   "language": "python",
   "name": "python3.8-env-kota-cp"
  },
  "language_info": {
   "codemirror_mode": {
    "name": "ipython",
    "version": 3
   },
   "file_extension": ".py",
   "mimetype": "text/x-python",
   "name": "python",
   "nbconvert_exporter": "python",
   "pygments_lexer": "ipython3",
   "version": "3.8.18"
  }
 },
 "nbformat": 4,
 "nbformat_minor": 5
}
