{
 "cells": [
  {
   "cell_type": "markdown",
   "id": "f6cb3cf4-09f1-4d5f-a948-54fc306b0ee8",
   "metadata": {},
   "source": [
    "## Loading MarketData from API"
   ]
  },
  {
   "cell_type": "code",
   "execution_count": 3,
   "id": "27ebdcd9-4e6c-4ccb-b559-a16bba19156c",
   "metadata": {},
   "outputs": [],
   "source": [
    "import sys\n",
    "import numpy as np\n",
    "import os\n",
    "import configparser\n",
    "sys.path.append(\"/home/kota/demo/\")\n",
    "# libraries as common function\n",
    "import matplotlib.pyplot as plt\n",
    "\n",
    "\n",
    "import libraries as l\n",
    "\n",
    "# load marketdata as notebook specific function\n",
    "import load_marketdata as lmd\n",
    "\n",
    "\n",
    "# Create a ConfigParser object\n",
    "config = configparser.ConfigParser()\n",
    "# Read the configuration file\n",
    "config.read('/home/kota/config/asr.config')\n",
    "os.environ['FACTSET_ID']= config.get('api', 'id')\n",
    "os.environ['FACTSET_PASSWD']= config.get('api', 'passwd')\n"
   ]
  },
  {
   "cell_type": "code",
   "execution_count": 4,
   "id": "25be1a6e-825f-4f29-97f8-e84620b54dad",
   "metadata": {},
   "outputs": [
    {
     "name": "stdout",
     "output_type": "stream",
     "text": [
      "HTTP Status: 200\n"
     ]
    },
    {
     "data": {
      "text/html": [
       "<iframe\n",
       "    scrolling=\"no\"\n",
       "    width=\"100%\"\n",
       "    height=\"545px\"\n",
       "    src=\"iframe_figures/figure_4.html\"\n",
       "    frameborder=\"0\"\n",
       "    allowfullscreen\n",
       "></iframe>\n"
      ]
     },
     "metadata": {},
     "output_type": "display_data"
    },
    {
     "name": "stdout",
     "output_type": "stream",
     "text": [
      "HTTP Status: 200\n"
     ]
    },
    {
     "data": {
      "text/html": [
       "<iframe\n",
       "    scrolling=\"no\"\n",
       "    width=\"100%\"\n",
       "    height=\"545px\"\n",
       "    src=\"iframe_figures/figure_4.html\"\n",
       "    frameborder=\"0\"\n",
       "    allowfullscreen\n",
       "></iframe>\n"
      ]
     },
     "metadata": {},
     "output_type": "display_data"
    },
    {
     "name": "stdout",
     "output_type": "stream",
     "text": [
      "HTTP Status: 200\n"
     ]
    },
    {
     "data": {
      "text/html": [
       "<iframe\n",
       "    scrolling=\"no\"\n",
       "    width=\"100%\"\n",
       "    height=\"545px\"\n",
       "    src=\"iframe_figures/figure_4.html\"\n",
       "    frameborder=\"0\"\n",
       "    allowfullscreen\n",
       "></iframe>\n"
      ]
     },
     "metadata": {},
     "output_type": "display_data"
    }
   ],
   "source": [
    "tk = 7203\n",
    "freq_name = ['Daily', 'Weekly', 'Monthly']\n",
    "start_date = '2020-01-01'\n",
    "end_date = '2024-01-01'\n",
    "\n",
    "for i, freq in enumerate([\"D\", 'W', 'M']):\n",
    "    \n",
    "    topix_prc_df = l.capture_closing_price(np.array([f'{tk}-JP']), start_date, end_date, freq)\n",
    "    #display(topix_prc_df )\n",
    "    topix_prc_df.set_index('datetime', inplace = True)\n",
    "    lmd.candle_charts(topix_prc_df, freq_name[i], tk)\n",
    "    "
   ]
  },
  {
   "cell_type": "code",
   "execution_count": null,
   "id": "2038943e-ad5f-43f5-9613-46ae9a7f83a1",
   "metadata": {},
   "outputs": [],
   "source": []
  }
 ],
 "metadata": {
  "kernelspec": {
   "display_name": "kota-copied",
   "language": "python",
   "name": "python3.8-env-kota-cp"
  },
  "language_info": {
   "codemirror_mode": {
    "name": "ipython",
    "version": 3
   },
   "file_extension": ".py",
   "mimetype": "text/x-python",
   "name": "python",
   "nbconvert_exporter": "python",
   "pygments_lexer": "ipython3",
   "version": "3.8.18"
  }
 },
 "nbformat": 4,
 "nbformat_minor": 5
}
